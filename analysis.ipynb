{
 "cells": [
  {
   "cell_type": "code",
   "execution_count": 2,
   "metadata": {},
   "outputs": [],
   "source": [
    "import pandas as pd\n",
    "import os"
   ]
  },
  {
   "cell_type": "code",
   "execution_count": 42,
   "metadata": {},
   "outputs": [],
   "source": [
    "def load_data(S):\n",
    "\n",
    "    data = {}\n",
    "    for file in os.listdir(f'data/S={S}'):\n",
    "        data[int(file[6:])] = pd.read_csv(f'data/S={S}' + '/' + file, sep=';')\n",
    "\n",
    "    times = pd.read_csv(f'data/times/S={S}', sep=';')\n",
    "\n",
    "    return data, times"
   ]
  },
  {
   "cell_type": "code",
   "execution_count": 43,
   "metadata": {},
   "outputs": [],
   "source": [
    "data, times = load_data(2)"
   ]
  },
  {
   "cell_type": "code",
   "execution_count": 58,
   "metadata": {},
   "outputs": [
    {
     "data": {
      "text/html": [
       "<div>\n",
       "<style scoped>\n",
       "    .dataframe tbody tr th:only-of-type {\n",
       "        vertical-align: middle;\n",
       "    }\n",
       "\n",
       "    .dataframe tbody tr th {\n",
       "        vertical-align: top;\n",
       "    }\n",
       "\n",
       "    .dataframe thead th {\n",
       "        text-align: right;\n",
       "    }\n",
       "</style>\n",
       "<table border=\"1\" class=\"dataframe\">\n",
       "  <thead>\n",
       "    <tr style=\"text-align: right;\">\n",
       "      <th></th>\n",
       "      <th>S</th>\n",
       "      <th>p</th>\n",
       "      <th>l</th>\n",
       "    </tr>\n",
       "  </thead>\n",
       "  <tbody>\n",
       "    <tr>\n",
       "      <th>0</th>\n",
       "      <td>(1, 10)</td>\n",
       "      <td>11</td>\n",
       "      <td>10</td>\n",
       "    </tr>\n",
       "    <tr>\n",
       "      <th>1</th>\n",
       "      <td>(2, 10)</td>\n",
       "      <td>4</td>\n",
       "      <td>10</td>\n",
       "    </tr>\n",
       "    <tr>\n",
       "      <th>2</th>\n",
       "      <td>(3, 10)</td>\n",
       "      <td>13</td>\n",
       "      <td>10</td>\n",
       "    </tr>\n",
       "    <tr>\n",
       "      <th>3</th>\n",
       "      <td>(4, 10)</td>\n",
       "      <td>14</td>\n",
       "      <td>10</td>\n",
       "    </tr>\n",
       "    <tr>\n",
       "      <th>4</th>\n",
       "      <td>(5, 10)</td>\n",
       "      <td>15</td>\n",
       "      <td>10</td>\n",
       "    </tr>\n",
       "    <tr>\n",
       "      <th>5</th>\n",
       "      <td>(6, 10)</td>\n",
       "      <td>16</td>\n",
       "      <td>10</td>\n",
       "    </tr>\n",
       "    <tr>\n",
       "      <th>6</th>\n",
       "      <td>(7, 10)</td>\n",
       "      <td>17</td>\n",
       "      <td>10</td>\n",
       "    </tr>\n",
       "    <tr>\n",
       "      <th>7</th>\n",
       "      <td>(8, 10)</td>\n",
       "      <td>18</td>\n",
       "      <td>10</td>\n",
       "    </tr>\n",
       "    <tr>\n",
       "      <th>8</th>\n",
       "      <td>(9, 10)</td>\n",
       "      <td>19</td>\n",
       "      <td>10</td>\n",
       "    </tr>\n",
       "  </tbody>\n",
       "</table>\n",
       "</div>"
      ],
      "text/plain": [
       "         S   p   l\n",
       "0  (1, 10)  11  10\n",
       "1  (2, 10)   4  10\n",
       "2  (3, 10)  13  10\n",
       "3  (4, 10)  14  10\n",
       "4  (5, 10)  15  10\n",
       "5  (6, 10)  16  10\n",
       "6  (7, 10)  17  10\n",
       "7  (8, 10)  18  10\n",
       "8  (9, 10)  19  10"
      ]
     },
     "execution_count": 58,
     "metadata": {},
     "output_type": "execute_result"
    }
   ],
   "source": [
    "data[10]"
   ]
  },
  {
   "cell_type": "code",
   "execution_count": 56,
   "metadata": {},
   "outputs": [],
   "source": [
    "plot_data = {'S_2': load_data(2)[0], 'S_4': load_data(2)[0]}"
   ]
  },
  {
   "cell_type": "code",
   "execution_count": 54,
   "metadata": {},
   "outputs": [],
   "source": [
    "def __find_worst_periods(data):\n",
    "    worst_periods = {}\n",
    "\n",
    "    for key in data:\n",
    "        worst_periods[key] = data[key]['p'].max()\n",
    "    return worst_periods\n",
    "\n",
    "def plot_worst_periods(data={}):\n",
    "\n",
    "    plot_data = {}\n",
    "\n",
    "    for key in data:\n",
    "        plot_data[key] = __find_worst_periods(data[key])\n",
    "    \n",
    "    #TUTAJ DOROBIC JUZ PLOTA BO JEST WSZYSTKO PRZYGOTOWANE\n"
   ]
  },
  {
   "cell_type": "code",
   "execution_count": 57,
   "metadata": {},
   "outputs": [
    {
     "name": "stdout",
     "output_type": "stream",
     "text": [
      "{'S_2': {1: nan, 10: 19, 11: 21, 12: 23, 13: 25, 14: 27, 15: 29, 16: 31, 17: 33, 18: 35, 19: 37, 2: 3, 20: 39, 21: 41, 22: 43, 23: 45, 24: 47, 25: 49, 26: 51, 27: 53, 28: 55, 29: 57, 3: 5, 30: 59, 31: 61, 32: 63, 33: 65, 34: 67, 35: 69, 36: 71, 37: 73, 38: 75, 39: 77, 4: 7, 40: 79, 41: 81, 42: 83, 43: 85, 44: 87, 45: 89, 46: 91, 47: 93, 48: 95, 49: 97, 5: 9, 50: 99, 51: 101, 52: 103, 53: 105, 54: 107, 55: 109, 56: 111, 57: 113, 58: 115, 59: 117, 6: 11, 60: 119, 61: 121, 62: 123, 63: 125, 64: 127, 65: 129, 66: 131, 67: 133, 68: 135, 69: 137, 7: 13, 70: 139, 71: 141, 72: 143, 73: 145, 74: 147, 75: 149, 76: 151, 77: 153, 78: 155, 79: 157, 8: 15, 80: 159, 81: 161, 82: 163, 83: 165, 84: 167, 85: 169, 86: 171, 87: 173, 88: 175, 89: 177, 9: 17, 90: 179}, 'S_4': {1: nan, 10: 19, 11: 21, 12: 23, 13: 25, 14: 27, 15: 29, 16: 31, 17: 33, 18: 35, 19: 37, 2: 3, 20: 39, 21: 41, 22: 43, 23: 45, 24: 47, 25: 49, 26: 51, 27: 53, 28: 55, 29: 57, 3: 5, 30: 59, 31: 61, 32: 63, 33: 65, 34: 67, 35: 69, 36: 71, 37: 73, 38: 75, 39: 77, 4: 7, 40: 79, 41: 81, 42: 83, 43: 85, 44: 87, 45: 89, 46: 91, 47: 93, 48: 95, 49: 97, 5: 9, 50: 99, 51: 101, 52: 103, 53: 105, 54: 107, 55: 109, 56: 111, 57: 113, 58: 115, 59: 117, 6: 11, 60: 119, 61: 121, 62: 123, 63: 125, 64: 127, 65: 129, 66: 131, 67: 133, 68: 135, 69: 137, 7: 13, 70: 139, 71: 141, 72: 143, 73: 145, 74: 147, 75: 149, 76: 151, 77: 153, 78: 155, 79: 157, 8: 15, 80: 159, 81: 161, 82: 163, 83: 165, 84: 167, 85: 169, 86: 171, 87: 173, 88: 175, 89: 177, 9: 17, 90: 179}}\n"
     ]
    }
   ],
   "source": [
    "plot_worst_periods(plot_data)"
   ]
  }
 ],
 "metadata": {
  "kernelspec": {
   "display_name": "Python 3",
   "language": "python",
   "name": "python3"
  },
  "language_info": {
   "codemirror_mode": {
    "name": "ipython",
    "version": 3
   },
   "file_extension": ".py",
   "mimetype": "text/x-python",
   "name": "python",
   "nbconvert_exporter": "python",
   "pygments_lexer": "ipython3",
   "version": "3.9.10"
  }
 },
 "nbformat": 4,
 "nbformat_minor": 2
}
