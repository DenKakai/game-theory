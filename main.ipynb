{
 "cells": [
  {
   "cell_type": "code",
   "execution_count": 1,
   "metadata": {},
   "outputs": [],
   "source": [
    "def calculate_grundy(S, max_n):\n",
    "    \"\"\"\n",
    "    Calculate the Grundy numbers G(n) for a subtraction game with moves in set S.\n",
    "\n",
    "    Parameters:\n",
    "    - S (list): The allowed moves (subtraction values).\n",
    "    - max_n (int): The maximum heap size to compute Grundy numbers for.\n",
    "\n",
    "    Returns:\n",
    "    - list: Grundy numbers G(0) to G(max_n).\n",
    "    \"\"\"\n",
    "    grundy = [0] * (max_n + 1)  # Initialize Grundy numbers to 0\n",
    "\n",
    "    for n in range(1, max_n + 1):\n",
    "        # Determine reachable Grundy numbers\n",
    "        reachable = {grundy[n - move] for move in S if n - move >= 0}\n",
    "        # Minimum excluded value (mex)\n",
    "        grundy[n] = next(x for x in range(len(reachable) + 1) if x not in reachable)\n",
    "\n",
    "    return grundy\n",
    "\n",
    "\n",
    "def find_period(grundy, max_a):\n",
    "    \"\"\"\n",
    "    Find the pre-period (l) and period (p) of the Grundy sequence.\n",
    "\n",
    "    Parameters:\n",
    "    - grundy (list): Grundy numbers for the sequence.\n",
    "    - max_a (int): Maximum move value (a).\n",
    "\n",
    "    Returns:\n",
    "    - tuple: (pre-period l, period p)\n",
    "    \"\"\"\n",
    "    length = len(grundy)\n",
    "    for l in range(max_a, length):  # Start searching from max_a\n",
    "        for p in range(1, length - l):\n",
    "            if grundy[l:l + p] == grundy[l + p:l + 2 * p]:  # Check for periodicity\n",
    "                # Verify periodicity according to Corollary 7.34\n",
    "                if all(grundy[n] == grundy[n + p] for n in range(l, min(l + p + max_a, length))):\n",
    "                    return l, p\n",
    "    return None, None  # If no period is found"
   ]
  },
  {
   "cell_type": "code",
   "execution_count": 2,
   "metadata": {},
   "outputs": [
    {
     "name": "stdout",
     "output_type": "stream",
     "text": [
      "Grundy numbers (first 20 values): [0, 1, 2, 0, 1, 2, 0, 1, 2, 0, 1, 2, 0, 1, 2, 0, 1, 2, 0, 1]\n",
      "Pre-period (l): 2, Period (p): 3\n"
     ]
    }
   ],
   "source": [
    "# Define the subtraction game moves\n",
    "S = [1, 2]  # Example: Moves of size 1 and 2\n",
    "max_n = 100  # Compute Grundy numbers up to this heap size\n",
    "\n",
    "# Step 1: Calculate Grundy numbers\n",
    "grundy = calculate_grundy(S, max_n)\n",
    "\n",
    "# Step 2: Find the pre-period and period\n",
    "max_a = max(S)  # Maximum move value\n",
    "l, p = find_period(grundy, max_a)\n",
    "\n",
    "# Step 3: Display results\n",
    "print(f\"Grundy numbers (first 20 values): {grundy[:20]}\")\n",
    "if l is not None and p is not None:\n",
    "    print(f\"Pre-period (l): {l}, Period (p): {p}\")\n",
    "else:\n",
    "    print(\"No periodicity detected within the given range.\")"
   ]
  }
 ],
 "metadata": {
  "kernelspec": {
   "display_name": "Python 3",
   "language": "python",
   "name": "python3"
  },
  "language_info": {
   "codemirror_mode": {
    "name": "ipython",
    "version": 3
   },
   "file_extension": ".py",
   "mimetype": "text/x-python",
   "name": "python",
   "nbconvert_exporter": "python",
   "pygments_lexer": "ipython3",
   "version": "3.9.10"
  }
 },
 "nbformat": 4,
 "nbformat_minor": 2
}
