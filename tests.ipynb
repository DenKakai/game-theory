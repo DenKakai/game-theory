{
 "cells": [
  {
   "cell_type": "code",
   "execution_count": 1,
   "metadata": {},
   "outputs": [],
   "source": [
    "from utils import *"
   ]
  },
  {
   "cell_type": "code",
   "execution_count": null,
   "metadata": {},
   "outputs": [],
   "source": []
  },
  {
   "cell_type": "markdown",
   "metadata": {},
   "source": [
    "## One example"
   ]
  },
  {
   "cell_type": "code",
   "execution_count": 2,
   "metadata": {},
   "outputs": [
    {
     "name": "stdout",
     "output_type": "stream",
     "text": [
      "Grundy numbers (first 20 values): [0, 1, 0, 1, 2, 3, 2, 0, 1, 0, 1, 2, 3, 2, 0, 1, 0, 1, 2, 3]\n",
      "Pre-period (l): 4, Period (p): 7\n"
     ]
    }
   ],
   "source": [
    "# Define the subtraction game moves\n",
    "S = [1, 3, 4]  # Example: Moves of size 1 and 2\n",
    "max_n = 100  # Compute Grundy numbers up to this heap size\n",
    "\n",
    "# Step 1: Calculate Grundy numbers\n",
    "grundy = calculate_grundy(S, max_n)\n",
    "\n",
    "# Step 2: Find the pre-period and period\n",
    "max_a = max(S)  # Maximum move value\n",
    "l, p = find_period(grundy, max_a)\n",
    "\n",
    "# Step 3: Display results\n",
    "print(f\"Grundy numbers (first 20 values): {grundy[:20]}\")\n",
    "if l is not None and p is not None:\n",
    "    print(f\"Pre-period (l): {l}, Period (p): {p}\")\n",
    "else:\n",
    "    print(\"No periodicity detected within the given range.\")"
   ]
  },
  {
   "cell_type": "markdown",
   "metadata": {},
   "source": [
    "## Find worst"
   ]
  },
  {
   "cell_type": "code",
   "execution_count": 3,
   "metadata": {},
   "outputs": [
    {
     "name": "stderr",
     "output_type": "stream",
     "text": [
      "100%|██████████| 15/15 [00:00<00:00, 1400.59it/s]"
     ]
    },
    {
     "name": "stderr",
     "output_type": "stream",
     "text": [
      "\n"
     ]
    },
    {
     "data": {
      "text/plain": [
       "(22, (2, 5, 7))"
      ]
     },
     "execution_count": 3,
     "metadata": {},
     "output_type": "execute_result"
    }
   ],
   "source": [
    "worst_period(7, 3)"
   ]
  },
  {
   "cell_type": "markdown",
   "metadata": {},
   "source": [
    "## All worst"
   ]
  },
  {
   "cell_type": "code",
   "execution_count": 4,
   "metadata": {},
   "outputs": [
    {
     "name": "stderr",
     "output_type": "stream",
     "text": [
      "0it [00:00, ?it/s]\n",
      "0it [00:00, ?it/s]\n",
      "100%|██████████| 1/1 [00:00<00:00, 998.17it/s]\n",
      "100%|██████████| 3/3 [00:00<00:00, 2992.37it/s]\n",
      "100%|██████████| 6/6 [00:00<00:00, 3968.12it/s]\n",
      "100%|██████████| 10/10 [00:00<00:00, 3097.03it/s]\n",
      "100%|██████████| 15/15 [00:00<00:00, 1601.45it/s]\n",
      "100%|██████████| 21/21 [00:00<00:00, 318.38it/s]\n",
      "100%|██████████| 28/28 [00:00<00:00, 105.04it/s]\n",
      "100%|██████████| 36/36 [00:00<00:00, 72.99it/s]\n",
      "100%|██████████| 45/45 [00:07<00:00,  6.33it/s]\n",
      "100%|██████████| 55/55 [00:15<00:00,  3.56it/s]\n",
      "100%|██████████| 66/66 [04:04<00:00,  3.70s/it]\n",
      "100%|██████████| 78/78 [09:26<00:00,  7.26s/it]\n",
      " 24%|██▍       | 22/91 [10:11<40:02, 34.82s/it]  "
     ]
    }
   ],
   "source": [
    "size_S = 3\n",
    "max_n = 100\n",
    "\n",
    "periods = worst_period_values_S(max_n, size_S)"
   ]
  },
  {
   "cell_type": "code",
   "execution_count": null,
   "metadata": {},
   "outputs": [],
   "source": [
    "import matplotlib.pyplot as plt"
   ]
  },
  {
   "cell_type": "code",
   "execution_count": null,
   "metadata": {},
   "outputs": [],
   "source": [
    "arr = np.arange(1, 101)\n",
    "max_periods = 4**arr\n",
    "max_periods"
   ]
  },
  {
   "cell_type": "code",
   "execution_count": null,
   "metadata": {},
   "outputs": [],
   "source": [
    "plt.plot(range(1, max_n), periods)\n"
   ]
  }
 ],
 "metadata": {
  "kernelspec": {
   "display_name": "advML",
   "language": "python",
   "name": "python3"
  },
  "language_info": {
   "codemirror_mode": {
    "name": "ipython",
    "version": 3
   },
   "file_extension": ".py",
   "mimetype": "text/x-python",
   "name": "python",
   "nbconvert_exporter": "python",
   "pygments_lexer": "ipython3",
   "version": "3.12.2"
  }
 },
 "nbformat": 4,
 "nbformat_minor": 2
}
